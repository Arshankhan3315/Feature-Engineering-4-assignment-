{
 "cells": [
  {
   "cell_type": "markdown",
   "id": "aaf8024a-d21c-47a8-9998-2973b337e86d",
   "metadata": {},
   "source": [
    "# Feature Engineering-4 Assignment"
   ]
  },
  {
   "cell_type": "markdown",
   "id": "b2d32f90-fdda-4cd4-b98a-374f76c6820d",
   "metadata": {},
   "source": [
    "# Question-1. What is data encoding? How is it useful in data science?"
   ]
  },
  {
   "cell_type": "markdown",
   "id": "2b3e27dd-53b9-4ee1-adf7-16a138321180",
   "metadata": {},
   "source": [
    "# Answer-1-Data encoding is the process of converting data from one form to another. In the context of data science, encoding is particularly relevant when dealing with categorical data, which consists of non-numerical information such as labels or names.\n",
    "\n",
    "# There are various encoding techniques used in data science:\n",
    "\n",
    "# Label Encoding: This involves converting categorical data into numerical form by assigning a unique integer to each category. For example, if you have categories like \"red,\" \"green,\" and \"blue,\" they might be encoded as 0, 1, and 2, respectively. However, this method might inadvertently imply ordinal relationships between the categories, which might not exist.\n",
    "\n",
    "# One-Hot Encoding: This technique creates binary columns for each category and represents them as 0 or 1. Each category gets its own column, and only one column is 'hot' (set to 1) for a particular category while the others are set to 0. This method avoids the ordinal relationship issue but can lead to increased dimensionality in the data.\n",
    "\n",
    "# Binary Encoding: This method converts categories into binary code. Each category is first converted to numeric format and then into binary code. The resulting binary digits create fewer new columns than one-hot encoding while still avoiding the ordinal relationship.\n",
    "\n",
    "# Data encoding is useful in data science for several reasons:\n",
    "\n",
    "# Machine Learning Algorithms: Many machine learning models require numerical input, and encoding categorical data facilitates this by converting non-numeric data into a format that algorithms can understand and process.\n",
    "\n",
    "# Improved Model Performance: By encoding categorical data properly, it ensures that the models can interpret the information correctly, reducing potential biases and misinterpretations. This can lead to improved model performance.\n",
    "\n",
    "# Handling Categorical Data: Data encoding enables handling of categorical variables in a way that doesn’t imply false relationships or impose inappropriate ordinality, thereby ensuring the integrity of the analysis"
   ]
  },
  {
   "cell_type": "markdown",
   "id": "865f0723-a85b-4d26-b6b0-aeebde47064e",
   "metadata": {},
   "source": [
    "# Question-2. What is nominal encoding? Provide an example of how you would use it in a real-world scenario."
   ]
  },
  {
   "cell_type": "markdown",
   "id": "4a2faa3d-1f85-40ec-9437-50a208aaf902",
   "metadata": {},
   "source": [
    "# Answer-2-Certainly! Nominal encoding, particularly using the one-hot encoding technique, can be implemented in Python using various libraries such as Pandas and Scikit-learn. Here's an example of how you can perform one-hot encoding using Pandas:"
   ]
  },
  {
   "cell_type": "code",
   "execution_count": 1,
   "id": "2ac0adc6-40b4-4b0d-8d42-ada490aeb22e",
   "metadata": {},
   "outputs": [],
   "source": [
    "import pandas as pd"
   ]
  },
  {
   "cell_type": "code",
   "execution_count": 2,
   "id": "a55ae987-46a0-4695-9d18-93402bd4683a",
   "metadata": {},
   "outputs": [],
   "source": [
    "data = {\n",
    "    'Employee ID': [1, 2, 3, 4, 5],\n",
    "    'Department': ['HR', 'Sales', 'Marketing', 'IT', 'HR']\n",
    "}"
   ]
  },
  {
   "cell_type": "code",
   "execution_count": 3,
   "id": "694de76d-3973-44d7-8fa8-b1cbefdd9761",
   "metadata": {},
   "outputs": [],
   "source": [
    "df = pd.DataFrame(data)\n",
    "encoded_departments = pd.get_dummies(df['Department'], prefix='Department')\n",
    "df = pd.concat([df, encoded_departments], axis=1)\n",
    "df = df.drop('Department', axis=1)"
   ]
  },
  {
   "cell_type": "code",
   "execution_count": 4,
   "id": "ee396cf2-bbba-4686-a92f-9a662c590018",
   "metadata": {},
   "outputs": [
    {
     "data": {
      "text/html": [
       "<div>\n",
       "<style scoped>\n",
       "    .dataframe tbody tr th:only-of-type {\n",
       "        vertical-align: middle;\n",
       "    }\n",
       "\n",
       "    .dataframe tbody tr th {\n",
       "        vertical-align: top;\n",
       "    }\n",
       "\n",
       "    .dataframe thead th {\n",
       "        text-align: right;\n",
       "    }\n",
       "</style>\n",
       "<table border=\"1\" class=\"dataframe\">\n",
       "  <thead>\n",
       "    <tr style=\"text-align: right;\">\n",
       "      <th></th>\n",
       "      <th>Employee ID</th>\n",
       "      <th>Department_HR</th>\n",
       "      <th>Department_IT</th>\n",
       "      <th>Department_Marketing</th>\n",
       "      <th>Department_Sales</th>\n",
       "    </tr>\n",
       "  </thead>\n",
       "  <tbody>\n",
       "    <tr>\n",
       "      <th>0</th>\n",
       "      <td>1</td>\n",
       "      <td>1</td>\n",
       "      <td>0</td>\n",
       "      <td>0</td>\n",
       "      <td>0</td>\n",
       "    </tr>\n",
       "    <tr>\n",
       "      <th>1</th>\n",
       "      <td>2</td>\n",
       "      <td>0</td>\n",
       "      <td>0</td>\n",
       "      <td>0</td>\n",
       "      <td>1</td>\n",
       "    </tr>\n",
       "    <tr>\n",
       "      <th>2</th>\n",
       "      <td>3</td>\n",
       "      <td>0</td>\n",
       "      <td>0</td>\n",
       "      <td>1</td>\n",
       "      <td>0</td>\n",
       "    </tr>\n",
       "    <tr>\n",
       "      <th>3</th>\n",
       "      <td>4</td>\n",
       "      <td>0</td>\n",
       "      <td>1</td>\n",
       "      <td>0</td>\n",
       "      <td>0</td>\n",
       "    </tr>\n",
       "    <tr>\n",
       "      <th>4</th>\n",
       "      <td>5</td>\n",
       "      <td>1</td>\n",
       "      <td>0</td>\n",
       "      <td>0</td>\n",
       "      <td>0</td>\n",
       "    </tr>\n",
       "  </tbody>\n",
       "</table>\n",
       "</div>"
      ],
      "text/plain": [
       "   Employee ID  Department_HR  Department_IT  Department_Marketing  \\\n",
       "0            1              1              0                     0   \n",
       "1            2              0              0                     0   \n",
       "2            3              0              0                     1   \n",
       "3            4              0              1                     0   \n",
       "4            5              1              0                     0   \n",
       "\n",
       "   Department_Sales  \n",
       "0                 0  \n",
       "1                 1  \n",
       "2                 0  \n",
       "3                 0  \n",
       "4                 0  "
      ]
     },
     "execution_count": 4,
     "metadata": {},
     "output_type": "execute_result"
    }
   ],
   "source": [
    "df"
   ]
  },
  {
   "cell_type": "markdown",
   "id": "8111fe94-6709-46fb-81fe-a831a5b6e950",
   "metadata": {},
   "source": [
    "# Question-3. In what situations is nominal encoding preferred over one-hot encoding? Provide a practical example."
   ]
  },
  {
   "cell_type": "markdown",
   "id": "6cfe393c-21cc-40bd-8501-cfe8eb878f38",
   "metadata": {},
   "source": [
    "# Answer-3-Nominal encoding and one-hot encoding are often used interchangeably, but there are specific scenarios where nominal encoding (like label encoding) might be preferred over one-hot encoding. Nominal encoding, specifically label encoding, is suitable when dealing with categorical variables that exhibit a natural ordinal relationship, where the categories can be ordered or ranked.\n",
    "\n",
    "# An example where nominal encoding (label encoding) might be preferred over one-hot encoding is in the context of \"Education Level.\"\n",
    "\n",
    "# Consider a dataset that includes an \"Education Level\" feature with categorical values such as \"High School,\" \"Bachelor's Degree,\" \"Master's Degree,\" and \"Ph.D.\" In this scenario, these education levels have a clear ordinal relationship—Ph.D. is higher than a Master's, a Master's is higher than a Bachelor's, and so on.\n",
    "\n",
    "# Using one-hot encoding in this situation might unnecessarily increase dimensionality and introduce redundant information. Label encoding can preserve the inherent ordinal nature of the data more effectively."
   ]
  },
  {
   "cell_type": "code",
   "execution_count": 5,
   "id": "2c4660bb-78f6-4cb1-8f9d-7fa3d8299080",
   "metadata": {},
   "outputs": [],
   "source": [
    "from sklearn.preprocessing import LabelEncoder"
   ]
  },
  {
   "cell_type": "code",
   "execution_count": 6,
   "id": "e405ea56-c4f4-407b-aca7-12b16bda8164",
   "metadata": {},
   "outputs": [],
   "source": [
    "data = {\n",
    "    'ID': [1, 2, 3, 4],\n",
    "    'Education Level': ['High School', 'Bachelor\\'s', 'Master\\'s', 'Ph.D.']\n",
    "}"
   ]
  },
  {
   "cell_type": "code",
   "execution_count": 7,
   "id": "044376d4-3923-4c03-a161-629d8aa169bf",
   "metadata": {},
   "outputs": [],
   "source": [
    "df = pd.DataFrame(data)\n",
    "label_encoder = LabelEncoder()\n",
    "df['Encoded_Education'] = label_encoder.fit_transform(df['Education Level'])"
   ]
  },
  {
   "cell_type": "code",
   "execution_count": 8,
   "id": "328fe343-57bb-40f4-8be4-08469dbf1055",
   "metadata": {},
   "outputs": [
    {
     "data": {
      "text/html": [
       "<div>\n",
       "<style scoped>\n",
       "    .dataframe tbody tr th:only-of-type {\n",
       "        vertical-align: middle;\n",
       "    }\n",
       "\n",
       "    .dataframe tbody tr th {\n",
       "        vertical-align: top;\n",
       "    }\n",
       "\n",
       "    .dataframe thead th {\n",
       "        text-align: right;\n",
       "    }\n",
       "</style>\n",
       "<table border=\"1\" class=\"dataframe\">\n",
       "  <thead>\n",
       "    <tr style=\"text-align: right;\">\n",
       "      <th></th>\n",
       "      <th>ID</th>\n",
       "      <th>Education Level</th>\n",
       "      <th>Encoded_Education</th>\n",
       "    </tr>\n",
       "  </thead>\n",
       "  <tbody>\n",
       "    <tr>\n",
       "      <th>0</th>\n",
       "      <td>1</td>\n",
       "      <td>High School</td>\n",
       "      <td>1</td>\n",
       "    </tr>\n",
       "    <tr>\n",
       "      <th>1</th>\n",
       "      <td>2</td>\n",
       "      <td>Bachelor's</td>\n",
       "      <td>0</td>\n",
       "    </tr>\n",
       "    <tr>\n",
       "      <th>2</th>\n",
       "      <td>3</td>\n",
       "      <td>Master's</td>\n",
       "      <td>2</td>\n",
       "    </tr>\n",
       "    <tr>\n",
       "      <th>3</th>\n",
       "      <td>4</td>\n",
       "      <td>Ph.D.</td>\n",
       "      <td>3</td>\n",
       "    </tr>\n",
       "  </tbody>\n",
       "</table>\n",
       "</div>"
      ],
      "text/plain": [
       "   ID Education Level  Encoded_Education\n",
       "0   1     High School                  1\n",
       "1   2      Bachelor's                  0\n",
       "2   3        Master's                  2\n",
       "3   4           Ph.D.                  3"
      ]
     },
     "execution_count": 8,
     "metadata": {},
     "output_type": "execute_result"
    }
   ],
   "source": [
    "df"
   ]
  },
  {
   "cell_type": "markdown",
   "id": "c6588361-f4ae-4467-b908-baddd0a555de",
   "metadata": {},
   "source": [
    "# Q4. Suppose you have a dataset containing categorical data with 5 unique values. Which encoding technique would you use to transform this data into a format suitable for machine learning algorithms? Explain why you made this choice."
   ]
  },
  {
   "cell_type": "markdown",
   "id": "d2318742-85a1-4226-8e04-a10343c76a24",
   "metadata": {},
   "source": [
    "# Answer-4-If you have a dataset containing categorical data with 5 unique values and you want to transform this data into a format suitable for machine learning algorithms, the choice of encoding technique would depend on several factors, including the nature of the data, the relationship between the categories, and the specific machine learning algorithm you plan to use.\n",
    "\n",
    "# Here are a few encoding techniques and considerations for the given scenario:\n",
    "\n",
    "# Label Encoding: If the categorical data exhibits a clear ordinal relationship among the 5 unique values, label encoding could be suitable. Label encoding assigns a unique numerical value to each category. However, if there is no inherent order or ranking among the categories, label encoding might imply an unintended ordinal relationship.\n",
    "\n",
    "# One-Hot Encoding: One-hot encoding could be a good choice when there is no intrinsic order or hierarchy among the 5 unique values. It represents each category as a binary column, where only one column has a value of 1 while the others are 0. This technique is effective in handling nominal data without introducing any ordinality.\n",
    "\n",
    "# Binary Encoding: Another approach might be binary encoding. This method transforms the categories into binary code and uses fewer columns than one-hot encoding. It's useful if you aim to reduce the dimensionality resulting from one-hot encoding while still avoiding the assumption of an order among the categories.\n",
    "\n",
    "# Target Encoding: If you are dealing with a classification problem and have a target variable, target encoding might be considered. This method replaces categorical values with the mean of the target variable for each category. However, this technique should be used cautiously to avoid data leakage and overfitting."
   ]
  },
  {
   "cell_type": "markdown",
   "id": "1a55e3df-2f50-4ef2-ac9d-d707153608de",
   "metadata": {},
   "source": [
    "# Q5. In a machine learning project, you have a dataset with 1000 rows and 5 columns. Two of the columns are categorical, and the remaining three columns are numerical. If you were to use nominal encoding to transform the categorical data, how many new columns would be created? Show your calculations."
   ]
  },
  {
   "cell_type": "markdown",
   "id": "16a29b50-9b2d-4fd7-9e07-25d630b81014",
   "metadata": {},
   "source": [
    "# Answer-5-If you are using nominal encoding, such as one-hot encoding, to transform the categorical data in a dataset, the number of new columns created would depend on the number of unique categories within each categorical column.\n",
    "\n",
    "# Given a dataset with 1000 rows and 5 columns, let's assume that two of these columns are categorical and the remaining three columns are numerical.\n",
    "\n",
    "# Let's suppose:\n",
    "\n",
    "# Categorical Column 1 has m1 unique categories.\n",
    "# Categorical Column 2 has m2 unique categories.\n",
    "# For each categorical column, one-hot encoding would create a new binary column for each unique category within that column.\n",
    "\n",
    "# The formula to determine the number of new columns created via one-hot encoding for categorical data is:\n",
    "\n",
    "# Total new columns = Number of unique categories in column 1 + Number of unique categories in column 2\n",
    "# Total new columns=Number of unique categories in column 1+Number of unique categories in column 2\n",
    "# Let's assume the first categorical column has 4 unique categories and the second categorical column has 3 unique categories.\n",
    "\n",
    "# So, using nominal encoding for the two categorical columns in the dataset:\n",
    "\n",
    "# Number of new columns = Number of unique categories in column 1 + Number of unique categories in column 2\n",
    "# Number of new columns = 4+3=7\n",
    "\n",
    "# Therefore, applying nominal encoding (one-hot encoding) to the two categorical columns would create 7 new columns in total."
   ]
  },
  {
   "cell_type": "markdown",
   "id": "af773138-e033-4fb1-a4ba-1299fa8601e9",
   "metadata": {},
   "source": [
    "# Q6. You are working with a dataset containing information about different types of animals, including their species, habitat, and diet. Which encoding technique would you use to transform the categorical data into a format suitable for machine learning algorithms? Justify your answer."
   ]
  },
  {
   "cell_type": "markdown",
   "id": "fb60ed83-7d6e-4f32-8d24-268ecd9fcfbe",
   "metadata": {},
   "source": [
    "# Answer-6-In a dataset containing information about different types of animals, specifically their species, habitat, and diet, the choice of encoding technique for transforming the categorical data into a format suitable for machine learning algorithms depends on the nature of the data within each categorical feature.\n",
    "\n",
    "# Here are some considerations for each feature:\n",
    "\n",
    "# Species: If the \"Species\" feature consists of distinct categories without an inherent ordinal relationship or hierarchy, one-hot encoding would be a suitable choice. Each species could be represented by its own binary column, preserving the independence of each species without implying any ordinality.\n",
    "\n",
    "# Habitat: Similar to \"Species,\" if \"Habitat\" comprises categories without a clear ordinal relationship (e.g., forest, desert, ocean), one-hot encoding would likely be appropriate to represent each habitat as binary columns.\n",
    "\n",
    "# Diet: If \"Diet\" has distinct categories (e.g., herbivore, carnivore, omnivore) and there is no inherent order among the types of diets, one-hot encoding would also be a suitable choice.\n",
    "\n",
    "# Justification:One-hot encoding is often preferred when dealing with nominal categorical variables that have no inherent order. It allows the representation of each category as an independent binary column, preventing the model from assuming any false relationships or order among the categories. It's particularly useful when dealing with nominal data, ensuring that the machine learning algorithm treats each category as equally important without implying any ordinal relationship that might not exist in the original data."
   ]
  },
  {
   "cell_type": "markdown",
   "id": "cf632836-9e2e-40ce-827c-cc6d6371ac87",
   "metadata": {},
   "source": [
    "# Q7.You are working on a project that involves predicting customer churn for a telecommunications company. You have a dataset with 5 features, including the customer's gender, age, contract type, monthly charges, and tenure. Which encoding technique(s) would you use to transform the categorical data into numerical data? Provide a step-by-step explanation of how you would implement the encoding."
   ]
  },
  {
   "cell_type": "markdown",
   "id": "a45057ed-bf4b-4767-a6e8-cd01701fdf38",
   "metadata": {},
   "source": [
    "# Answer-7-or the given dataset with features like gender, contract type, and numerical features like age, monthly charges, and tenure, transforming the categorical data into numerical data is crucial for predictive modeling, particularly for predicting customer churn in a telecommunications company.\n",
    "\n",
    "# Here are the steps to implement encoding techniques for the given dataset:\n",
    "\n",
    "# Identify Categorical Features:\n",
    "\n",
    "# Gender and Contract Type are categorical features.\n",
    "# Age, Monthly Charges, and Tenure are numerical features.\n",
    "# Select Encoding Techniques:\n",
    "\n",
    "# For the gender feature, which is nominal without any ordinal relationship, one could use binary encoding or label encoding.\n",
    "# The contract type is likely to have several categories (such as 'Month-to-Month', 'One Year', 'Two Year'), making one-hot encoding more suitable to prevent any ordinal assumptions."
   ]
  },
  {
   "cell_type": "markdown",
   "id": "a248041b-c69f-4d73-90fe-527bfd969a74",
   "metadata": {},
   "source": [
    "# Assignment Completed"
   ]
  }
 ],
 "metadata": {
  "kernelspec": {
   "display_name": "Python 3 (ipykernel)",
   "language": "python",
   "name": "python3"
  },
  "language_info": {
   "codemirror_mode": {
    "name": "ipython",
    "version": 3
   },
   "file_extension": ".py",
   "mimetype": "text/x-python",
   "name": "python",
   "nbconvert_exporter": "python",
   "pygments_lexer": "ipython3",
   "version": "3.10.8"
  }
 },
 "nbformat": 4,
 "nbformat_minor": 5
}
